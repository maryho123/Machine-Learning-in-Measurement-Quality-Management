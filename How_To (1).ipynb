{
 "cells": [
  {
   "cell_type": "markdown",
   "metadata": {},
   "source": [
    "# How to Train the Classifier"
   ]
  },
  {
   "cell_type": "markdown",
   "metadata": {},
   "source": [
    "1. Import necessary libraries"
   ]
  },
  {
   "cell_type": "code",
   "execution_count": null,
   "metadata": {},
   "outputs": [],
   "source": [
    "from sklearn.discriminant_analysis import QuadraticDiscriminantAnalysis"
   ]
  },
  {
   "cell_type": "markdown",
   "metadata": {},
   "source": [
    "2. Set up the dictionary system, assign a number to each of the classes "
   ]
  },
  {
   "cell_type": "code",
   "execution_count": null,
   "metadata": {},
   "outputs": [],
   "source": [
    "quality_type_dictionary={0:\"Good\",1:\"Bad\"}"
   ]
  },
  {
   "cell_type": "markdown",
   "metadata": {},
   "source": [
    "3. Create a function that creates the training set from all the files by joining them. Then increase the number of training sets through the calculated standard deviation "
   ]
  },
  {
   "cell_type": "code",
   "execution_count": null,
   "metadata": {},
   "outputs": [],
   "source": [
    "def create_xml_training_set(pretrain_folder,number_training_sets=1000,expansion_factor=1):\n",
    "    mean_file=frequency_model_collapse_multiple_measurements(joined_file)\n",
    "    std_file=frequency_model_collapse_multiple_measurements(joined_file,\n",
    "                                                            method=\"std\")\n",
    "    print(len(mean_file.data))\n",
    "    mean_array=np.array(mean_file[\"Current\"])\n",
    "    std_array=np.array(std_file[\"Current\"])\n",
    "    #increases the number of training arrays \n",
    "    training_arrays=np.array([np.random.normal(loc=mean_value,scale=expansion_factor*std_array[index]+.0001,\n",
    "                                               size=number_training_sets) for index,\n",
    "                              mean_value in enumerate(mean_array)])\n",
    "\n",
    "    training_arrays=[[training_arrays[i][j] \n",
    "                      for i in range(len(mean_array))] for j in range(number_training_sets)]\n",
    "    return training_arrays"
   ]
  },
  {
   "cell_type": "markdown",
   "metadata": {},
   "source": [
    "4. Create target array with the corresponding number assigned to each class from the training array "
   ]
  },
  {
   "cell_type": "markdown",
   "metadata": {},
   "source": [
    "5. Train the Classifer with the training array and the target array "
   ]
  },
  {
   "cell_type": "code",
   "execution_count": null,
   "metadata": {},
   "outputs": [],
   "source": [
    "classifier=QuadraticDiscriminantAnalysis()\n",
    "classifier.fit(training_array,target_array)"
   ]
  },
  {
   "cell_type": "markdown",
   "metadata": {},
   "source": [
    "6. Test the classifer by putting the data into the same format as the training array"
   ]
  },
  {
   "cell_type": "code",
   "execution_count": null,
   "metadata": {},
   "outputs": [],
   "source": [
    "predictions=classifier.predict(test_array)\n"
   ]
  }
 ],
 "metadata": {
  "kernelspec": {
   "display_name": "Python 2",
   "language": "python",
   "name": "python2"
  },
  "language_info": {
   "codemirror_mode": {
    "name": "ipython",
    "version": 2
   },
   "file_extension": ".py",
   "mimetype": "text/x-python",
   "name": "python",
   "nbconvert_exporter": "python",
   "pygments_lexer": "ipython2",
   "version": "2.7.15"
  }
 },
 "nbformat": 4,
 "nbformat_minor": 2
}

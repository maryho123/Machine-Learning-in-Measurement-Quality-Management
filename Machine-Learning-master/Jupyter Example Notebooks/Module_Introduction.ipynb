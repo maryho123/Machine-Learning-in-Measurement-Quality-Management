{
 "cells": [
  {
   "cell_type": "markdown",
   "metadata": {},
   "source": [
    "# An introduction to the module\n",
    "First, we have to import everything from MachineLearningModule. We are also importing pandas to get a pandas DataFrame from a csv file and use it early on, and numpy to combine two arrays later on."
   ]
  },
  {
   "cell_type": "code",
   "execution_count": 1,
   "metadata": {
    "collapsed": true
   },
   "outputs": [],
   "source": [
    "import sys\n",
    "sys.path.insert(0, '..')\n",
    "from Machine_Learning import *\n",
    "import pandas as pd\n",
    "import numpy as np"
   ]
  },
  {
   "cell_type": "markdown",
   "metadata": {},
   "source": [
    "In order to start using this module, data must be put into the form of a **DictionarySystem** which will be used to get data into the correct format, interpolate it, and generate new data. One of the easiest ways to get a DictionarySystem requires a pandas DataFrame to exist first."
   ]
  },
  {
   "cell_type": "code",
   "execution_count": 2,
   "metadata": {
    "scrolled": true
   },
   "outputs": [
    {
     "name": "stderr",
     "output_type": "stream",
     "text": [
      "C:\\ProgramData\\Anaconda2\\lib\\site-packages\\IPython\\core\\interactiveshell.py:2717: DtypeWarning: Columns (10,11,12,16,18,19,20,27) have mixed types. Specify dtype option on import or set low_memory=False.\n",
      "  interactivity=interactivity, compiler=compiler, result=result)\n"
     ]
    },
    {
     "data": {
      "text/html": [
       "<div>\n",
       "<style>\n",
       "    .dataframe thead tr:only-child th {\n",
       "        text-align: right;\n",
       "    }\n",
       "\n",
       "    .dataframe thead th {\n",
       "        text-align: left;\n",
       "    }\n",
       "\n",
       "    .dataframe tbody tr th {\n",
       "        vertical-align: top;\n",
       "    }\n",
       "</style>\n",
       "<table border=\"1\" class=\"dataframe\">\n",
       "  <thead>\n",
       "    <tr style=\"text-align: right;\">\n",
       "      <th></th>\n",
       "      <th>Frequency</th>\n",
       "      <th>Direction</th>\n",
       "      <th>Connect</th>\n",
       "      <th>magS11</th>\n",
       "      <th>argS11</th>\n",
       "      <th>magS21</th>\n",
       "      <th>argS21</th>\n",
       "      <th>magS22</th>\n",
       "      <th>argS22</th>\n",
       "      <th>System_Id</th>\n",
       "      <th>...</th>\n",
       "      <th>Calibration_Date</th>\n",
       "      <th>Port_Used</th>\n",
       "      <th>Number_Connects</th>\n",
       "      <th>Number_Repeats</th>\n",
       "      <th>Nbs</th>\n",
       "      <th>Number_Frequencies</th>\n",
       "      <th>Start_Frequency</th>\n",
       "      <th>Device_Description</th>\n",
       "      <th>Device_Id</th>\n",
       "      <th>Measurement_Timestamp</th>\n",
       "    </tr>\n",
       "  </thead>\n",
       "  <tbody>\n",
       "    <tr>\n",
       "      <th>0</th>\n",
       "      <td>0.05</td>\n",
       "      <td>1.0</td>\n",
       "      <td>1</td>\n",
       "      <td>0.0033</td>\n",
       "      <td>0.40</td>\n",
       "      <td>0.9943</td>\n",
       "      <td>-6.45</td>\n",
       "      <td>0.0019</td>\n",
       "      <td>74.46</td>\n",
       "      <td>HP8510</td>\n",
       "      <td>...</td>\n",
       "      <td>NaN</td>\n",
       "      <td>2</td>\n",
       "      <td>3.0</td>\n",
       "      <td>1.0</td>\n",
       "      <td>4.0</td>\n",
       "      <td>181.0</td>\n",
       "      <td>7.0</td>\n",
       "      <td>Calorimeter C</td>\n",
       "      <td>C00001</td>\n",
       "      <td>2010-07-09 11:33:55</td>\n",
       "    </tr>\n",
       "    <tr>\n",
       "      <th>1</th>\n",
       "      <td>0.05</td>\n",
       "      <td>1.0</td>\n",
       "      <td>2</td>\n",
       "      <td>0.0033</td>\n",
       "      <td>-1.32</td>\n",
       "      <td>0.9938</td>\n",
       "      <td>-6.44</td>\n",
       "      <td>0.0021</td>\n",
       "      <td>85.57</td>\n",
       "      <td>HP8510</td>\n",
       "      <td>...</td>\n",
       "      <td>NaN</td>\n",
       "      <td>2</td>\n",
       "      <td>3.0</td>\n",
       "      <td>1.0</td>\n",
       "      <td>4.0</td>\n",
       "      <td>181.0</td>\n",
       "      <td>7.0</td>\n",
       "      <td>Calorimeter C</td>\n",
       "      <td>C00001</td>\n",
       "      <td>2010-07-09 11:33:55</td>\n",
       "    </tr>\n",
       "    <tr>\n",
       "      <th>2</th>\n",
       "      <td>0.05</td>\n",
       "      <td>1.0</td>\n",
       "      <td>3</td>\n",
       "      <td>0.0034</td>\n",
       "      <td>-1.45</td>\n",
       "      <td>0.9937</td>\n",
       "      <td>-6.46</td>\n",
       "      <td>0.0022</td>\n",
       "      <td>88.97</td>\n",
       "      <td>HP8510</td>\n",
       "      <td>...</td>\n",
       "      <td>NaN</td>\n",
       "      <td>2</td>\n",
       "      <td>3.0</td>\n",
       "      <td>1.0</td>\n",
       "      <td>4.0</td>\n",
       "      <td>181.0</td>\n",
       "      <td>7.0</td>\n",
       "      <td>Calorimeter C</td>\n",
       "      <td>C00001</td>\n",
       "      <td>2010-07-09 11:33:55</td>\n",
       "    </tr>\n",
       "    <tr>\n",
       "      <th>3</th>\n",
       "      <td>0.10</td>\n",
       "      <td>1.0</td>\n",
       "      <td>1</td>\n",
       "      <td>0.0033</td>\n",
       "      <td>40.08</td>\n",
       "      <td>0.9934</td>\n",
       "      <td>-12.76</td>\n",
       "      <td>0.0032</td>\n",
       "      <td>24.29</td>\n",
       "      <td>HP8510</td>\n",
       "      <td>...</td>\n",
       "      <td>NaN</td>\n",
       "      <td>2</td>\n",
       "      <td>3.0</td>\n",
       "      <td>1.0</td>\n",
       "      <td>4.0</td>\n",
       "      <td>181.0</td>\n",
       "      <td>7.0</td>\n",
       "      <td>Calorimeter C</td>\n",
       "      <td>C00001</td>\n",
       "      <td>2010-07-09 11:33:55</td>\n",
       "    </tr>\n",
       "    <tr>\n",
       "      <th>4</th>\n",
       "      <td>0.10</td>\n",
       "      <td>1.0</td>\n",
       "      <td>2</td>\n",
       "      <td>0.0033</td>\n",
       "      <td>38.44</td>\n",
       "      <td>0.9931</td>\n",
       "      <td>-12.75</td>\n",
       "      <td>0.0032</td>\n",
       "      <td>20.96</td>\n",
       "      <td>HP8510</td>\n",
       "      <td>...</td>\n",
       "      <td>NaN</td>\n",
       "      <td>2</td>\n",
       "      <td>3.0</td>\n",
       "      <td>1.0</td>\n",
       "      <td>4.0</td>\n",
       "      <td>181.0</td>\n",
       "      <td>7.0</td>\n",
       "      <td>Calorimeter C</td>\n",
       "      <td>C00001</td>\n",
       "      <td>2010-07-09 11:33:55</td>\n",
       "    </tr>\n",
       "    <tr>\n",
       "      <th>5</th>\n",
       "      <td>0.10</td>\n",
       "      <td>1.0</td>\n",
       "      <td>3</td>\n",
       "      <td>0.0033</td>\n",
       "      <td>38.14</td>\n",
       "      <td>0.9931</td>\n",
       "      <td>-12.78</td>\n",
       "      <td>0.0032</td>\n",
       "      <td>21.65</td>\n",
       "      <td>HP8510</td>\n",
       "      <td>...</td>\n",
       "      <td>NaN</td>\n",
       "      <td>2</td>\n",
       "      <td>3.0</td>\n",
       "      <td>1.0</td>\n",
       "      <td>4.0</td>\n",
       "      <td>181.0</td>\n",
       "      <td>7.0</td>\n",
       "      <td>Calorimeter C</td>\n",
       "      <td>C00001</td>\n",
       "      <td>2010-07-09 11:33:55</td>\n",
       "    </tr>\n",
       "  </tbody>\n",
       "</table>\n",
       "<p>6 rows × 30 columns</p>\n",
       "</div>"
      ],
      "text/plain": [
       "   Frequency  Direction  Connect  magS11  argS11  magS21  argS21  magS22  \\\n",
       "0       0.05        1.0        1  0.0033    0.40  0.9943   -6.45  0.0019   \n",
       "1       0.05        1.0        2  0.0033   -1.32  0.9938   -6.44  0.0021   \n",
       "2       0.05        1.0        3  0.0034   -1.45  0.9937   -6.46  0.0022   \n",
       "3       0.10        1.0        1  0.0033   40.08  0.9934  -12.76  0.0032   \n",
       "4       0.10        1.0        2  0.0033   38.44  0.9931  -12.75  0.0032   \n",
       "5       0.10        1.0        3  0.0033   38.14  0.9931  -12.78  0.0032   \n",
       "\n",
       "   argS22 System_Id          ...          Calibration_Date Port_Used  \\\n",
       "0   74.46    HP8510          ...                       NaN         2   \n",
       "1   85.57    HP8510          ...                       NaN         2   \n",
       "2   88.97    HP8510          ...                       NaN         2   \n",
       "3   24.29    HP8510          ...                       NaN         2   \n",
       "4   20.96    HP8510          ...                       NaN         2   \n",
       "5   21.65    HP8510          ...                       NaN         2   \n",
       "\n",
       "  Number_Connects Number_Repeats  Nbs Number_Frequencies Start_Frequency  \\\n",
       "0             3.0            1.0  4.0              181.0             7.0   \n",
       "1             3.0            1.0  4.0              181.0             7.0   \n",
       "2             3.0            1.0  4.0              181.0             7.0   \n",
       "3             3.0            1.0  4.0              181.0             7.0   \n",
       "4             3.0            1.0  4.0              181.0             7.0   \n",
       "5             3.0            1.0  4.0              181.0             7.0   \n",
       "\n",
       "   Device_Description Device_Id Measurement_Timestamp  \n",
       "0       Calorimeter C    C00001   2010-07-09 11:33:55  \n",
       "1       Calorimeter C    C00001   2010-07-09 11:33:55  \n",
       "2       Calorimeter C    C00001   2010-07-09 11:33:55  \n",
       "3       Calorimeter C    C00001   2010-07-09 11:33:55  \n",
       "4       Calorimeter C    C00001   2010-07-09 11:33:55  \n",
       "5       Calorimeter C    C00001   2010-07-09 11:33:55  \n",
       "\n",
       "[6 rows x 30 columns]"
      ]
     },
     "execution_count": 2,
     "metadata": {},
     "output_type": "execute_result"
    }
   ],
   "source": [
    "pandas_dataframe = pd.read_csv(\"../Combined_Two_Port_Check_Standard.csv\")\n",
    "pandas_dataframe[:6]"
   ]
  },
  {
   "cell_type": "markdown",
   "metadata": {},
   "source": [
    "Now, we can create a DictionarySystem by splitting the pandas Dataframe by a column. What this means is that a new dictionary is created, with every single key being a unique value within the column specified in the table. Each value will contain a new DataFrame containing all rows which have the value of the key in the column the original DataFrame was split by."
   ]
  },
  {
   "cell_type": "code",
   "execution_count": 3,
   "metadata": {
    "collapsed": true
   },
   "outputs": [],
   "source": [
    "dictionary_system = split_table_by_column(pandas_dataframe,\"Device_Id\")"
   ]
  },
  {
   "cell_type": "markdown",
   "metadata": {},
   "source": [
    "An example to illustrate what I meant earlier is this: The table within the key \"C00001\" has every single row where, in the original DataFrame, the Device_Id column contained the value C00001."
   ]
  },
  {
   "cell_type": "code",
   "execution_count": 4,
   "metadata": {
    "scrolled": true
   },
   "outputs": [
    {
     "data": {
      "text/html": [
       "<div>\n",
       "<style>\n",
       "    .dataframe thead tr:only-child th {\n",
       "        text-align: right;\n",
       "    }\n",
       "\n",
       "    .dataframe thead th {\n",
       "        text-align: left;\n",
       "    }\n",
       "\n",
       "    .dataframe tbody tr th {\n",
       "        vertical-align: top;\n",
       "    }\n",
       "</style>\n",
       "<table border=\"1\" class=\"dataframe\">\n",
       "  <thead>\n",
       "    <tr style=\"text-align: right;\">\n",
       "      <th></th>\n",
       "      <th>Frequency</th>\n",
       "      <th>Direction</th>\n",
       "      <th>Connect</th>\n",
       "      <th>magS11</th>\n",
       "      <th>argS11</th>\n",
       "      <th>magS21</th>\n",
       "      <th>argS21</th>\n",
       "      <th>magS22</th>\n",
       "      <th>argS22</th>\n",
       "      <th>System_Id</th>\n",
       "      <th>...</th>\n",
       "      <th>Calibration_Date</th>\n",
       "      <th>Port_Used</th>\n",
       "      <th>Number_Connects</th>\n",
       "      <th>Number_Repeats</th>\n",
       "      <th>Nbs</th>\n",
       "      <th>Number_Frequencies</th>\n",
       "      <th>Start_Frequency</th>\n",
       "      <th>Device_Description</th>\n",
       "      <th>Device_Id</th>\n",
       "      <th>Measurement_Timestamp</th>\n",
       "    </tr>\n",
       "  </thead>\n",
       "  <tbody>\n",
       "    <tr>\n",
       "      <th>0</th>\n",
       "      <td>0.05</td>\n",
       "      <td>1.0</td>\n",
       "      <td>1</td>\n",
       "      <td>0.0033</td>\n",
       "      <td>0.40</td>\n",
       "      <td>0.9943</td>\n",
       "      <td>-6.45</td>\n",
       "      <td>0.0019</td>\n",
       "      <td>74.46</td>\n",
       "      <td>HP8510</td>\n",
       "      <td>...</td>\n",
       "      <td>NaN</td>\n",
       "      <td>2</td>\n",
       "      <td>3.0</td>\n",
       "      <td>1.0</td>\n",
       "      <td>4.0</td>\n",
       "      <td>181.0</td>\n",
       "      <td>7.0</td>\n",
       "      <td>Calorimeter C</td>\n",
       "      <td>C00001</td>\n",
       "      <td>2010-07-09 11:33:55</td>\n",
       "    </tr>\n",
       "    <tr>\n",
       "      <th>1</th>\n",
       "      <td>0.05</td>\n",
       "      <td>1.0</td>\n",
       "      <td>2</td>\n",
       "      <td>0.0033</td>\n",
       "      <td>-1.32</td>\n",
       "      <td>0.9938</td>\n",
       "      <td>-6.44</td>\n",
       "      <td>0.0021</td>\n",
       "      <td>85.57</td>\n",
       "      <td>HP8510</td>\n",
       "      <td>...</td>\n",
       "      <td>NaN</td>\n",
       "      <td>2</td>\n",
       "      <td>3.0</td>\n",
       "      <td>1.0</td>\n",
       "      <td>4.0</td>\n",
       "      <td>181.0</td>\n",
       "      <td>7.0</td>\n",
       "      <td>Calorimeter C</td>\n",
       "      <td>C00001</td>\n",
       "      <td>2010-07-09 11:33:55</td>\n",
       "    </tr>\n",
       "    <tr>\n",
       "      <th>2</th>\n",
       "      <td>0.05</td>\n",
       "      <td>1.0</td>\n",
       "      <td>3</td>\n",
       "      <td>0.0034</td>\n",
       "      <td>-1.45</td>\n",
       "      <td>0.9937</td>\n",
       "      <td>-6.46</td>\n",
       "      <td>0.0022</td>\n",
       "      <td>88.97</td>\n",
       "      <td>HP8510</td>\n",
       "      <td>...</td>\n",
       "      <td>NaN</td>\n",
       "      <td>2</td>\n",
       "      <td>3.0</td>\n",
       "      <td>1.0</td>\n",
       "      <td>4.0</td>\n",
       "      <td>181.0</td>\n",
       "      <td>7.0</td>\n",
       "      <td>Calorimeter C</td>\n",
       "      <td>C00001</td>\n",
       "      <td>2010-07-09 11:33:55</td>\n",
       "    </tr>\n",
       "    <tr>\n",
       "      <th>3</th>\n",
       "      <td>0.10</td>\n",
       "      <td>1.0</td>\n",
       "      <td>1</td>\n",
       "      <td>0.0033</td>\n",
       "      <td>40.08</td>\n",
       "      <td>0.9934</td>\n",
       "      <td>-12.76</td>\n",
       "      <td>0.0032</td>\n",
       "      <td>24.29</td>\n",
       "      <td>HP8510</td>\n",
       "      <td>...</td>\n",
       "      <td>NaN</td>\n",
       "      <td>2</td>\n",
       "      <td>3.0</td>\n",
       "      <td>1.0</td>\n",
       "      <td>4.0</td>\n",
       "      <td>181.0</td>\n",
       "      <td>7.0</td>\n",
       "      <td>Calorimeter C</td>\n",
       "      <td>C00001</td>\n",
       "      <td>2010-07-09 11:33:55</td>\n",
       "    </tr>\n",
       "    <tr>\n",
       "      <th>4</th>\n",
       "      <td>0.10</td>\n",
       "      <td>1.0</td>\n",
       "      <td>2</td>\n",
       "      <td>0.0033</td>\n",
       "      <td>38.44</td>\n",
       "      <td>0.9931</td>\n",
       "      <td>-12.75</td>\n",
       "      <td>0.0032</td>\n",
       "      <td>20.96</td>\n",
       "      <td>HP8510</td>\n",
       "      <td>...</td>\n",
       "      <td>NaN</td>\n",
       "      <td>2</td>\n",
       "      <td>3.0</td>\n",
       "      <td>1.0</td>\n",
       "      <td>4.0</td>\n",
       "      <td>181.0</td>\n",
       "      <td>7.0</td>\n",
       "      <td>Calorimeter C</td>\n",
       "      <td>C00001</td>\n",
       "      <td>2010-07-09 11:33:55</td>\n",
       "    </tr>\n",
       "    <tr>\n",
       "      <th>5</th>\n",
       "      <td>0.10</td>\n",
       "      <td>1.0</td>\n",
       "      <td>3</td>\n",
       "      <td>0.0033</td>\n",
       "      <td>38.14</td>\n",
       "      <td>0.9931</td>\n",
       "      <td>-12.78</td>\n",
       "      <td>0.0032</td>\n",
       "      <td>21.65</td>\n",
       "      <td>HP8510</td>\n",
       "      <td>...</td>\n",
       "      <td>NaN</td>\n",
       "      <td>2</td>\n",
       "      <td>3.0</td>\n",
       "      <td>1.0</td>\n",
       "      <td>4.0</td>\n",
       "      <td>181.0</td>\n",
       "      <td>7.0</td>\n",
       "      <td>Calorimeter C</td>\n",
       "      <td>C00001</td>\n",
       "      <td>2010-07-09 11:33:55</td>\n",
       "    </tr>\n",
       "  </tbody>\n",
       "</table>\n",
       "<p>6 rows × 30 columns</p>\n",
       "</div>"
      ],
      "text/plain": [
       "   Frequency  Direction  Connect  magS11  argS11  magS21  argS21  magS22  \\\n",
       "0       0.05        1.0        1  0.0033    0.40  0.9943   -6.45  0.0019   \n",
       "1       0.05        1.0        2  0.0033   -1.32  0.9938   -6.44  0.0021   \n",
       "2       0.05        1.0        3  0.0034   -1.45  0.9937   -6.46  0.0022   \n",
       "3       0.10        1.0        1  0.0033   40.08  0.9934  -12.76  0.0032   \n",
       "4       0.10        1.0        2  0.0033   38.44  0.9931  -12.75  0.0032   \n",
       "5       0.10        1.0        3  0.0033   38.14  0.9931  -12.78  0.0032   \n",
       "\n",
       "   argS22 System_Id          ...          Calibration_Date Port_Used  \\\n",
       "0   74.46    HP8510          ...                       NaN         2   \n",
       "1   85.57    HP8510          ...                       NaN         2   \n",
       "2   88.97    HP8510          ...                       NaN         2   \n",
       "3   24.29    HP8510          ...                       NaN         2   \n",
       "4   20.96    HP8510          ...                       NaN         2   \n",
       "5   21.65    HP8510          ...                       NaN         2   \n",
       "\n",
       "  Number_Connects Number_Repeats  Nbs Number_Frequencies Start_Frequency  \\\n",
       "0             3.0            1.0  4.0              181.0             7.0   \n",
       "1             3.0            1.0  4.0              181.0             7.0   \n",
       "2             3.0            1.0  4.0              181.0             7.0   \n",
       "3             3.0            1.0  4.0              181.0             7.0   \n",
       "4             3.0            1.0  4.0              181.0             7.0   \n",
       "5             3.0            1.0  4.0              181.0             7.0   \n",
       "\n",
       "   Device_Description Device_Id Measurement_Timestamp  \n",
       "0       Calorimeter C    C00001   2010-07-09 11:33:55  \n",
       "1       Calorimeter C    C00001   2010-07-09 11:33:55  \n",
       "2       Calorimeter C    C00001   2010-07-09 11:33:55  \n",
       "3       Calorimeter C    C00001   2010-07-09 11:33:55  \n",
       "4       Calorimeter C    C00001   2010-07-09 11:33:55  \n",
       "5       Calorimeter C    C00001   2010-07-09 11:33:55  \n",
       "\n",
       "[6 rows x 30 columns]"
      ]
     },
     "execution_count": 4,
     "metadata": {},
     "output_type": "execute_result"
    }
   ],
   "source": [
    "dictionary_system[\"C00001\"][:6]"
   ]
  },
  {
   "cell_type": "markdown",
   "metadata": {},
   "source": [
    "In this case, we want to split the DictionarySystem by more columns: System_Id, and Measurement_Date. Fortunately for us, there is a method for that:"
   ]
  },
  {
   "cell_type": "code",
   "execution_count": 5,
   "metadata": {
    "collapsed": true
   },
   "outputs": [],
   "source": [
    "dictionary_system.split_by_columns(\"System_Id\",\"Measurement_Date\")"
   ]
  },
  {
   "cell_type": "markdown",
   "metadata": {},
   "source": [
    "Now, we have split by three columns. In this case, this means we can easily access data depending on the Device it was taken on, the System it was taken on, and the day it was measured on. The following code, as an example, gets the dataset taken on the device with the ID \"CTN210\", with the system with the ID \"System 2,7\", on the first of march, 2001."
   ]
  },
  {
   "cell_type": "code",
   "execution_count": 6,
   "metadata": {
    "scrolled": true
   },
   "outputs": [
    {
     "data": {
      "text/html": [
       "<div>\n",
       "<style>\n",
       "    .dataframe thead tr:only-child th {\n",
       "        text-align: right;\n",
       "    }\n",
       "\n",
       "    .dataframe thead th {\n",
       "        text-align: left;\n",
       "    }\n",
       "\n",
       "    .dataframe tbody tr th {\n",
       "        vertical-align: top;\n",
       "    }\n",
       "</style>\n",
       "<table border=\"1\" class=\"dataframe\">\n",
       "  <thead>\n",
       "    <tr style=\"text-align: right;\">\n",
       "      <th></th>\n",
       "      <th>Frequency</th>\n",
       "      <th>Direction</th>\n",
       "      <th>Connect</th>\n",
       "      <th>magS11</th>\n",
       "      <th>argS11</th>\n",
       "      <th>magS21</th>\n",
       "      <th>argS21</th>\n",
       "      <th>magS22</th>\n",
       "      <th>argS22</th>\n",
       "      <th>System_Id</th>\n",
       "      <th>...</th>\n",
       "      <th>Calibration_Date</th>\n",
       "      <th>Port_Used</th>\n",
       "      <th>Number_Connects</th>\n",
       "      <th>Number_Repeats</th>\n",
       "      <th>Nbs</th>\n",
       "      <th>Number_Frequencies</th>\n",
       "      <th>Start_Frequency</th>\n",
       "      <th>Device_Description</th>\n",
       "      <th>Device_Id</th>\n",
       "      <th>Measurement_Timestamp</th>\n",
       "    </tr>\n",
       "  </thead>\n",
       "  <tbody>\n",
       "    <tr>\n",
       "      <th>0</th>\n",
       "      <td>2.0</td>\n",
       "      <td>NaN</td>\n",
       "      <td>1</td>\n",
       "      <td>0.02938</td>\n",
       "      <td>39.2477</td>\n",
       "      <td>0.498756</td>\n",
       "      <td>-147.9153</td>\n",
       "      <td>0.00772</td>\n",
       "      <td>-75.3099</td>\n",
       "      <td>System 2,7</td>\n",
       "      <td>...</td>\n",
       "      <td>27 Feb 01</td>\n",
       "      <td>1</td>\n",
       "      <td>NaN</td>\n",
       "      <td>NaN</td>\n",
       "      <td>NaN</td>\n",
       "      <td>NaN</td>\n",
       "      <td>NaN</td>\n",
       "      <td>NaN</td>\n",
       "      <td>CTN210</td>\n",
       "      <td>2001-03-01 16:35:21</td>\n",
       "    </tr>\n",
       "    <tr>\n",
       "      <th>1</th>\n",
       "      <td>2.0</td>\n",
       "      <td>NaN</td>\n",
       "      <td>2</td>\n",
       "      <td>0.02939</td>\n",
       "      <td>39.3973</td>\n",
       "      <td>0.498764</td>\n",
       "      <td>-147.9277</td>\n",
       "      <td>0.00761</td>\n",
       "      <td>-77.1347</td>\n",
       "      <td>System 2,7</td>\n",
       "      <td>...</td>\n",
       "      <td>27 Feb 01</td>\n",
       "      <td>1</td>\n",
       "      <td>NaN</td>\n",
       "      <td>NaN</td>\n",
       "      <td>NaN</td>\n",
       "      <td>NaN</td>\n",
       "      <td>NaN</td>\n",
       "      <td>NaN</td>\n",
       "      <td>CTN210</td>\n",
       "      <td>2001-03-01 16:35:21</td>\n",
       "    </tr>\n",
       "    <tr>\n",
       "      <th>2</th>\n",
       "      <td>2.0</td>\n",
       "      <td>NaN</td>\n",
       "      <td>3</td>\n",
       "      <td>0.02937</td>\n",
       "      <td>39.2739</td>\n",
       "      <td>0.498771</td>\n",
       "      <td>-147.9174</td>\n",
       "      <td>0.00774</td>\n",
       "      <td>-75.3605</td>\n",
       "      <td>System 2,7</td>\n",
       "      <td>...</td>\n",
       "      <td>27 Feb 01</td>\n",
       "      <td>1</td>\n",
       "      <td>NaN</td>\n",
       "      <td>NaN</td>\n",
       "      <td>NaN</td>\n",
       "      <td>NaN</td>\n",
       "      <td>NaN</td>\n",
       "      <td>NaN</td>\n",
       "      <td>CTN210</td>\n",
       "      <td>2001-03-01 16:35:21</td>\n",
       "    </tr>\n",
       "    <tr>\n",
       "      <th>3</th>\n",
       "      <td>3.0</td>\n",
       "      <td>NaN</td>\n",
       "      <td>1</td>\n",
       "      <td>0.03589</td>\n",
       "      <td>3.2225</td>\n",
       "      <td>0.497861</td>\n",
       "      <td>138.1588</td>\n",
       "      <td>0.00573</td>\n",
       "      <td>-115.2525</td>\n",
       "      <td>System 2,7</td>\n",
       "      <td>...</td>\n",
       "      <td>27 Feb 01</td>\n",
       "      <td>1</td>\n",
       "      <td>NaN</td>\n",
       "      <td>NaN</td>\n",
       "      <td>NaN</td>\n",
       "      <td>NaN</td>\n",
       "      <td>NaN</td>\n",
       "      <td>NaN</td>\n",
       "      <td>CTN210</td>\n",
       "      <td>2001-03-01 16:35:21</td>\n",
       "    </tr>\n",
       "    <tr>\n",
       "      <th>4</th>\n",
       "      <td>3.0</td>\n",
       "      <td>NaN</td>\n",
       "      <td>2</td>\n",
       "      <td>0.03588</td>\n",
       "      <td>3.2364</td>\n",
       "      <td>0.497844</td>\n",
       "      <td>138.1400</td>\n",
       "      <td>0.00577</td>\n",
       "      <td>-115.5677</td>\n",
       "      <td>System 2,7</td>\n",
       "      <td>...</td>\n",
       "      <td>27 Feb 01</td>\n",
       "      <td>1</td>\n",
       "      <td>NaN</td>\n",
       "      <td>NaN</td>\n",
       "      <td>NaN</td>\n",
       "      <td>NaN</td>\n",
       "      <td>NaN</td>\n",
       "      <td>NaN</td>\n",
       "      <td>CTN210</td>\n",
       "      <td>2001-03-01 16:35:21</td>\n",
       "    </tr>\n",
       "    <tr>\n",
       "      <th>5</th>\n",
       "      <td>3.0</td>\n",
       "      <td>NaN</td>\n",
       "      <td>3</td>\n",
       "      <td>0.03588</td>\n",
       "      <td>3.2059</td>\n",
       "      <td>0.497864</td>\n",
       "      <td>138.1576</td>\n",
       "      <td>0.00575</td>\n",
       "      <td>-115.2880</td>\n",
       "      <td>System 2,7</td>\n",
       "      <td>...</td>\n",
       "      <td>27 Feb 01</td>\n",
       "      <td>1</td>\n",
       "      <td>NaN</td>\n",
       "      <td>NaN</td>\n",
       "      <td>NaN</td>\n",
       "      <td>NaN</td>\n",
       "      <td>NaN</td>\n",
       "      <td>NaN</td>\n",
       "      <td>CTN210</td>\n",
       "      <td>2001-03-01 16:35:21</td>\n",
       "    </tr>\n",
       "  </tbody>\n",
       "</table>\n",
       "<p>6 rows × 30 columns</p>\n",
       "</div>"
      ],
      "text/plain": [
       "   Frequency  Direction  Connect   magS11   argS11    magS21    argS21  \\\n",
       "0        2.0        NaN        1  0.02938  39.2477  0.498756 -147.9153   \n",
       "1        2.0        NaN        2  0.02939  39.3973  0.498764 -147.9277   \n",
       "2        2.0        NaN        3  0.02937  39.2739  0.498771 -147.9174   \n",
       "3        3.0        NaN        1  0.03589   3.2225  0.497861  138.1588   \n",
       "4        3.0        NaN        2  0.03588   3.2364  0.497844  138.1400   \n",
       "5        3.0        NaN        3  0.03588   3.2059  0.497864  138.1576   \n",
       "\n",
       "    magS22    argS22   System_Id          ...          Calibration_Date  \\\n",
       "0  0.00772  -75.3099  System 2,7          ...                 27 Feb 01   \n",
       "1  0.00761  -77.1347  System 2,7          ...                 27 Feb 01   \n",
       "2  0.00774  -75.3605  System 2,7          ...                 27 Feb 01   \n",
       "3  0.00573 -115.2525  System 2,7          ...                 27 Feb 01   \n",
       "4  0.00577 -115.5677  System 2,7          ...                 27 Feb 01   \n",
       "5  0.00575 -115.2880  System 2,7          ...                 27 Feb 01   \n",
       "\n",
       "  Port_Used Number_Connects Number_Repeats Nbs Number_Frequencies  \\\n",
       "0         1             NaN            NaN NaN                NaN   \n",
       "1         1             NaN            NaN NaN                NaN   \n",
       "2         1             NaN            NaN NaN                NaN   \n",
       "3         1             NaN            NaN NaN                NaN   \n",
       "4         1             NaN            NaN NaN                NaN   \n",
       "5         1             NaN            NaN NaN                NaN   \n",
       "\n",
       "  Start_Frequency  Device_Description Device_Id Measurement_Timestamp  \n",
       "0             NaN                 NaN    CTN210   2001-03-01 16:35:21  \n",
       "1             NaN                 NaN    CTN210   2001-03-01 16:35:21  \n",
       "2             NaN                 NaN    CTN210   2001-03-01 16:35:21  \n",
       "3             NaN                 NaN    CTN210   2001-03-01 16:35:21  \n",
       "4             NaN                 NaN    CTN210   2001-03-01 16:35:21  \n",
       "5             NaN                 NaN    CTN210   2001-03-01 16:35:21  \n",
       "\n",
       "[6 rows x 30 columns]"
      ]
     },
     "execution_count": 6,
     "metadata": {},
     "output_type": "execute_result"
    }
   ],
   "source": [
    "dictionary_system[\"CTN210\"][\"System 2,7\"][\"01 Mar 01\"][:6]"
   ]
  },
  {
   "cell_type": "markdown",
   "metadata": {},
   "source": [
    "Currently, the DictionarySystem has a lot of variables as columns in each of its many tables. The problem with this is the fact that we do not care about many of these. In this case, the variables we care about are the independent variable Frequency, and the dependent variables magS11, magS21, and magS22; all the other variables are unimportant. Therefore, we can use a method to keep only specific columns we specify:"
   ]
  },
  {
   "cell_type": "code",
   "execution_count": 7,
   "metadata": {
    "collapsed": true
   },
   "outputs": [],
   "source": [
    "dictionary_system.keep_only_certain_columns(\"Frequency\",\"magS11\",\"magS21\",\"magS22\")"
   ]
  },
  {
   "cell_type": "markdown",
   "metadata": {},
   "source": [
    "Now every table in the DictionarySystem will only have the columns we specified:"
   ]
  },
  {
   "cell_type": "code",
   "execution_count": 8,
   "metadata": {
    "scrolled": true
   },
   "outputs": [
    {
     "data": {
      "text/html": [
       "<div>\n",
       "<style>\n",
       "    .dataframe thead tr:only-child th {\n",
       "        text-align: right;\n",
       "    }\n",
       "\n",
       "    .dataframe thead th {\n",
       "        text-align: left;\n",
       "    }\n",
       "\n",
       "    .dataframe tbody tr th {\n",
       "        vertical-align: top;\n",
       "    }\n",
       "</style>\n",
       "<table border=\"1\" class=\"dataframe\">\n",
       "  <thead>\n",
       "    <tr style=\"text-align: right;\">\n",
       "      <th></th>\n",
       "      <th>Frequency</th>\n",
       "      <th>magS11</th>\n",
       "      <th>magS21</th>\n",
       "      <th>magS22</th>\n",
       "    </tr>\n",
       "  </thead>\n",
       "  <tbody>\n",
       "    <tr>\n",
       "      <th>0</th>\n",
       "      <td>2.0</td>\n",
       "      <td>0.02938</td>\n",
       "      <td>0.498756</td>\n",
       "      <td>0.00772</td>\n",
       "    </tr>\n",
       "    <tr>\n",
       "      <th>1</th>\n",
       "      <td>2.0</td>\n",
       "      <td>0.02939</td>\n",
       "      <td>0.498764</td>\n",
       "      <td>0.00761</td>\n",
       "    </tr>\n",
       "    <tr>\n",
       "      <th>2</th>\n",
       "      <td>2.0</td>\n",
       "      <td>0.02937</td>\n",
       "      <td>0.498771</td>\n",
       "      <td>0.00774</td>\n",
       "    </tr>\n",
       "    <tr>\n",
       "      <th>3</th>\n",
       "      <td>3.0</td>\n",
       "      <td>0.03589</td>\n",
       "      <td>0.497861</td>\n",
       "      <td>0.00573</td>\n",
       "    </tr>\n",
       "    <tr>\n",
       "      <th>4</th>\n",
       "      <td>3.0</td>\n",
       "      <td>0.03588</td>\n",
       "      <td>0.497844</td>\n",
       "      <td>0.00577</td>\n",
       "    </tr>\n",
       "    <tr>\n",
       "      <th>5</th>\n",
       "      <td>3.0</td>\n",
       "      <td>0.03588</td>\n",
       "      <td>0.497864</td>\n",
       "      <td>0.00575</td>\n",
       "    </tr>\n",
       "  </tbody>\n",
       "</table>\n",
       "</div>"
      ],
      "text/plain": [
       "   Frequency   magS11    magS21   magS22\n",
       "0        2.0  0.02938  0.498756  0.00772\n",
       "1        2.0  0.02939  0.498764  0.00761\n",
       "2        2.0  0.02937  0.498771  0.00774\n",
       "3        3.0  0.03589  0.497861  0.00573\n",
       "4        3.0  0.03588  0.497844  0.00577\n",
       "5        3.0  0.03588  0.497864  0.00575"
      ]
     },
     "execution_count": 8,
     "metadata": {},
     "output_type": "execute_result"
    }
   ],
   "source": [
    "dictionary_system[\"CTN210\"][\"System 2,7\"][\"01 Mar 01\"][:6]"
   ]
  },
  {
   "cell_type": "markdown",
   "metadata": {},
   "source": [
    "We have a problem now, though: we have duplicate values for our independent variable, frequency. This is bad because we have to interpolate this data, run a classifier on it, and also graph it later on. The remove_column_duplicates will solve this issue. by selectively deleting rows to make each row value in the column specified unique. The method takes a lot of time, though, so be aware of that."
   ]
  },
  {
   "cell_type": "code",
   "execution_count": 9,
   "metadata": {
    "collapsed": true
   },
   "outputs": [],
   "source": [
    "dictionary_system.remove_column_duplicates(\"Frequency\")"
   ]
  },
  {
   "cell_type": "markdown",
   "metadata": {},
   "source": [
    "Later on, we will be interpolating our data so that it is all the same length to be put into a classifier, but really short datasets may be a problem. how would a dataset that had, say, two datapoints be interpolated to have 50? It would work, but the graph would not be smooth or reliable at all. For that reason, we have a method to remove tables below a specified rowcount."
   ]
  },
  {
   "cell_type": "code",
   "execution_count": 10,
   "metadata": {
    "collapsed": true
   },
   "outputs": [],
   "source": [
    "dictionary_system.remove_short_tables(10)"
   ]
  },
  {
   "cell_type": "markdown",
   "metadata": {},
   "source": [
    "Now would be a good time to interpolate all of our data to a specific amount of datapoints; in this case, 50 datapoints. This makes it possible to put data into a classifier, because normally, datasets can often have different domains and numbers of points, and classifiers cannot handle these differences.\n",
    "\n",
    "To interpolate data, we need to input the amount of datapoints we wish to have per dataset, the name of the independent variable within the DictionarySystem, and an Iterable containing the names of the dependent variables to be interpolated. Keep in mind any data for variables not specified in this method, after the method is run, will be completely removed."
   ]
  },
  {
   "cell_type": "code",
   "execution_count": 11,
   "metadata": {
    "collapsed": true
   },
   "outputs": [],
   "source": [
    "dictionary_system.interpolate_data(50,\"Frequency\",(\"magS11\",\"magS21\",\"magS22\"))"
   ]
  },
  {
   "cell_type": "markdown",
   "metadata": {},
   "source": [
    "Now all of the datasets within the DictionarySystem have the same amount of datapoints; in this case, 50 datapoints:"
   ]
  },
  {
   "cell_type": "code",
   "execution_count": 12,
   "metadata": {
    "scrolled": true
   },
   "outputs": [
    {
     "name": "stdout",
     "output_type": "stream",
     "text": [
      "Number of Datapoints in datasets: 50\n"
     ]
    }
   ],
   "source": [
    "print \"Number of Datapoints in datasets: \" + str(dictionary_system[\"CTN210\"][\"System 2,7\"][\"01 Mar 01\"].shape[0])"
   ]
  },
  {
   "cell_type": "markdown",
   "metadata": {},
   "source": [
    "Now that we have interpolated the data, we should check to see how many datasets we have in a specific location in the DictionarySystem! It would need to be a lot in order to be put through a classifier. Let's check the amount of datasets we have at the Device Id \"CTN210\" and the System Id \"System 2,7\":"
   ]
  },
  {
   "cell_type": "code",
   "execution_count": 13,
   "metadata": {},
   "outputs": [
    {
     "name": "stdout",
     "output_type": "stream",
     "text": [
      "Amount of datasets in array_dictionary_system['CTN210']['System 2,7']: 9\n"
     ]
    }
   ],
   "source": [
    "print (\"Amount of datasets in array_dictionary_system['CTN210']['System 2,7']: \"+\n",
    "       str(len(dictionary_system[\"CTN210\"][\"System 2,7\"].keys())))"
   ]
  },
  {
   "cell_type": "markdown",
   "metadata": {},
   "source": [
    "This is a problem, we don't have enough data to put into a classifier! Fortunately, we can generate pretty decent looking fake data by adding random noise to existing data.\n",
    "\n",
    "The make_fake_data_system_noise method returns a new data system containing fake data generated by adding random noise to real data. Lots of variables need to be inputted, so I will list them here:\n",
    "\n",
    "* First, the name of the independent variable must be inputted as the first argument.\n",
    "\n",
    "* Next, an Iterable containing the names of all of the dependent variables must be inputted.\n",
    "\n",
    "* Next, the number of fake datasets to be made at each location containing datasets, as an integer.\n",
    "\n",
    "* Next, the location to create fake datasets at. We will go over this soon.\n",
    "\n",
    "* Finally, an Iterable containing the amplitudes of the random gaussian noise to be added to the values of each dependent variable."
   ]
  },
  {
   "cell_type": "markdown",
   "metadata": {},
   "source": [
    "The big problem with this, though, is that generating fake data for all locations containing datasets in an DictionarySystem takes up a lot of memory, so that feature was removed, and we now have to input a location variable. The location variable is an Iterable containing the keys to go through to get to a location where each key contains a dataset. For instance, every key in dictionary_system[\"CTN210\"][\"System 2,7\"] contains a dataset, with each dataset being separated by date, so we will just put in (\"CTN210\",\"System 2,7\") as the loation."
   ]
  },
  {
   "cell_type": "code",
   "execution_count": 14,
   "metadata": {
    "collapsed": true
   },
   "outputs": [],
   "source": [
    "fake_data_system = dictionary_system.make_fake_data_system_noise(\"Frequency\",\n",
    "                                                                 (\"magS11\",\"magS21\",\"magS22\"),\n",
    "                                                                 15000,\n",
    "                                                                 (\"CTN210\",\"System 2,7\"),\n",
    "                                                                 (0.0005,0.0001,0.0005))"
   ]
  },
  {
   "cell_type": "markdown",
   "metadata": {},
   "source": [
    "Now, we have a lot more datasets to work with:"
   ]
  },
  {
   "cell_type": "code",
   "execution_count": 15,
   "metadata": {},
   "outputs": [
    {
     "name": "stdout",
     "output_type": "stream",
     "text": [
      "Amount of datasets in fake_data_system: 15000\n"
     ]
    }
   ],
   "source": [
    "print (\"Amount of datasets in fake_data_system: \"+\n",
    "       str(len(fake_data_system.keys())))"
   ]
  },
  {
   "cell_type": "markdown",
   "metadata": {},
   "source": [
    "By this point, we have basically done all there is to do to get our data in the right format, to get enough data, etc. Because of this, we can move on from our DictionarySystem to a simple set of arrays containing lists. Each one of these represents the values of a single variable, in every dataset.\n",
    "\n",
    "Why don't we make a classifier telling the difference between magS11 and magS22? For this, we will need to get both of those variables into this format."
   ]
  },
  {
   "cell_type": "code",
   "execution_count": 16,
   "metadata": {
    "collapsed": true
   },
   "outputs": [],
   "source": [
    "magS11_arr = fake_data_system.get_dataset_variable_values(\"magS11\")\n",
    "magS22_arr = fake_data_system.get_dataset_variable_values(\"magS22\")"
   ]
  },
  {
   "cell_type": "markdown",
   "metadata": {},
   "source": [
    "Now we can train a classifier using these arrays! To do this, we use the train_classifier method. We are using the default classifier, a Random Forest Classifier, as our classifier, yet other classifiers can be inputted. Also, lets only put half the datasets into the classifier to train it, so we can use the other half of the datasets for testing."
   ]
  },
  {
   "cell_type": "code",
   "execution_count": 17,
   "metadata": {
    "collapsed": true
   },
   "outputs": [],
   "source": [
    "classifier = train_classifier(magS11=magS11_arr[:len(magS11_arr)//2],magS22=magS22_arr[:len(magS22_arr)//2])"
   ]
  },
  {
   "cell_type": "markdown",
   "metadata": {},
   "source": [
    "There are plenty of methods that do predictions using a specified classifier and set of datasets, however it would be much nicer to create a graph showing what the classifier predicted. Guess what? There is also a method for that: the make_prediction_graph method!"
   ]
  },
  {
   "cell_type": "markdown",
   "metadata": {},
   "source": [
    "In order to do the method, though, we need values for the x-axis. We can get a frequency array. from our old fake data DictionarySystem. Since all of the values for frequency should stay the same in every dataset, we can just pick one dataset and get frequency out of it."
   ]
  },
  {
   "cell_type": "code",
   "execution_count": 18,
   "metadata": {
    "collapsed": true
   },
   "outputs": [],
   "source": [
    "frequency_vals = fake_data_system.values()[0][\"Frequency\"]"
   ]
  },
  {
   "cell_type": "markdown",
   "metadata": {},
   "source": [
    "The method also can only take a single array of data, so we have to append the two arrays to each other:"
   ]
  },
  {
   "cell_type": "code",
   "execution_count": 19,
   "metadata": {
    "collapsed": true
   },
   "outputs": [],
   "source": [
    "test_data = np.append(magS11_arr[len(magS11_arr)//2:],\n",
    "                      magS22_arr[len(magS22_arr)//2:],axis=0)"
   ]
  },
  {
   "cell_type": "markdown",
   "metadata": {},
   "source": [
    "Now we can do the actual method:"
   ]
  },
  {
   "cell_type": "code",
   "execution_count": 20,
   "metadata": {},
   "outputs": [
    {
     "data": {
      "image/png": "[encoded data removed]",
      "text/plain": [
       "<matplotlib.figure.Figure at 0x2ac08668>"
      ]
     },
     "metadata": {},
     "output_type": "display_data"
    }
   ],
   "source": [
    "make_prediction_graph(classifier,\n",
    "                      frequency_vals,\n",
    "                      test_data)\n",
    "plt.title(\"Lines predicted as magS11 vs lines predicted as magS22\")\n",
    "plt.show()"
   ]
  }
 ],
 "metadata": {
  "kernelspec": {
   "display_name": "Python 2",
   "language": "python",
   "name": "python2"
  },
  "language_info": {
   "codemirror_mode": {
    "name": "ipython",
    "version": 2
   },
   "file_extension": ".py",
   "mimetype": "text/x-python",
   "name": "python",
   "nbconvert_exporter": "python",
   "pygments_lexer": "ipython2",
   "version": "2.7.13"
  }
 },
 "nbformat": 4,
 "nbformat_minor": 2
}
